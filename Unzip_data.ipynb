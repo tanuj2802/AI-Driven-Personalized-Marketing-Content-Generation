{
 "cells": [
  {
   "cell_type": "code",
   "execution_count": 2,
   "id": "e6be8f96-1463-46d3-99a6-ab2fee3d0964",
   "metadata": {},
   "outputs": [
    {
     "name": "stdout",
     "output_type": "stream",
     "text": [
      "Deleted the zip file: data.zip\n",
      "All files have been unzipped, flattened into 'data', and the zip file has been deleted.\n"
     ]
    }
   ],
   "source": [
    "import zipfile\n",
    "import os\n",
    "import shutil\n",
    "\n",
    "# Path to the zip file\n",
    "zip_path = \"data.zip\"\n",
    "\n",
    "# Output folder\n",
    "output_folder = \"data\"\n",
    "\n",
    "# Ensure the output folder exists\n",
    "if not os.path.exists(output_folder):\n",
    "    os.makedirs(output_folder)\n",
    "\n",
    "# Unzip and flatten the files\n",
    "with zipfile.ZipFile(zip_path, 'r') as zip_ref:\n",
    "    for file in zip_ref.namelist():\n",
    "        # Extract each file to the output folder\n",
    "        source = zip_ref.extract(file, output_folder)\n",
    "        # Move the file directly to the output folder if it is in a subdirectory\n",
    "        if os.path.isfile(source):\n",
    "            destination = os.path.join(output_folder, os.path.basename(file))\n",
    "            shutil.move(source, destination)\n",
    "\n",
    "# Clean up empty directories\n",
    "for root, dirs, _ in os.walk(output_folder, topdown=False):\n",
    "    for directory in dirs:\n",
    "        dir_path = os.path.join(root, directory)\n",
    "        if not os.listdir(dir_path):  # If the directory is empty\n",
    "            os.rmdir(dir_path)\n",
    "\n",
    "# Delete the original zip file\n",
    "if os.path.exists(zip_path):\n",
    "    os.remove(zip_path)\n",
    "    print(f\"Deleted the zip file: {zip_path}\")\n",
    "\n",
    "print(f\"All files have been unzipped, flattened into '{output_folder}', and the zip file has been deleted.\")\n"
   ]
  }
 ],
 "metadata": {
  "kernelspec": {
   "display_name": "Python 3 (ipykernel)",
   "language": "python",
   "name": "python3"
  },
  "language_info": {
   "codemirror_mode": {
    "name": "ipython",
    "version": 3
   },
   "file_extension": ".py",
   "mimetype": "text/x-python",
   "name": "python",
   "nbconvert_exporter": "python",
   "pygments_lexer": "ipython3",
   "version": "3.12.4"
  }
 },
 "nbformat": 4,
 "nbformat_minor": 5
}
